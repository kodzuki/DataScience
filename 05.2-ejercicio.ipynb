{
 "cells": [
  {
   "cell_type": "markdown",
   "metadata": {},
   "source": [
    "Crear una clase `Fraccion` que implemente la representación de un número como una fracción (i.e. numerador/denominador).\n",
    "\n",
    "Debe implementar los siguientes métodos:\n",
    "* Suma\n",
    "* Resta\n",
    "* Multiplicación\n",
    "* Inversa\n",
    "* Imprimir su representación\n",
    "* Extra: Posibilidad de convertir el objeto a flotante."
   ]
  },
  {
   "cell_type": "code",
   "execution_count": 26,
   "metadata": {},
   "outputs": [
    {
     "name": "stdout",
     "output_type": "stream",
     "text": [
      "1 / 1\n",
      "1 / 1\n",
      "2 / 1\n",
      "0 / 1\n"
     ]
    }
   ],
   "source": [
    "\n",
    "\n",
    "class Fraccion(object):\n",
    "\n",
    "    \n",
    "    def __init__(self,a,b):\n",
    "        self.a = a\n",
    "        self.b = b\n",
    "        if(b == 0): raise ValueError('Error divison por 0, divergencia.')\n",
    "    \n",
    "    def Imprimir(self):\n",
    "\n",
    "        print(self.a,\"/\",self.b)\n",
    "        \n",
    "    def Suma(self,other):\n",
    "        den = self.b*other.b\n",
    "        num = self.a*other.b + self.b*other.a\n",
    "        return(Fraccion(num,den))\n",
    "    \n",
    "    def Resta(self,other):\n",
    "        den = self.b*other.b\n",
    "        num = self.a*other.b - self.b*other.a\n",
    "        return(Fraccion(num,den))\n",
    "    \n",
    "    def Multiplicacion(self,other):\n",
    "        den = self.b*other.b\n",
    "        num = self.a*other.a\n",
    "        return(Fraccion(num,den))\n",
    "    \n",
    "    def Inversa(self):\n",
    "        return(Fraccion(self.a,self.b))\n",
    "    \n",
    "    \n",
    "    \n",
    "fraccionario_1 = Fraccion(1,1)\n",
    "fraccionario_2 = Fraccion(1,1)\n",
    "\n",
    "fraccionario_1.Imprimir()\n",
    "\n",
    "Suma = fraccionario_1.Suma(fraccionario_2)\n",
    "\n",
    "Resta = fraccionario_2.Resta(fraccionario_1)\n",
    "\n",
    "Mult = fraccionario_1.Multiplicacion(fraccionario_2)\n",
    "\n",
    "fraccionario_1.Inversa().Imprimir()\n",
    "\n",
    "Suma.Imprimir()\n",
    "Resta.Imprimir()"
   ]
  }
 ],
 "metadata": {
  "kernelspec": {
   "display_name": "Python 3 (ipykernel)",
   "language": "python",
   "name": "python3"
  },
  "language_info": {
   "codemirror_mode": {
    "name": "ipython",
    "version": 3
   },
   "file_extension": ".py",
   "mimetype": "text/x-python",
   "name": "python",
   "nbconvert_exporter": "python",
   "pygments_lexer": "ipython3",
   "version": "3.10.6"
  }
 },
 "nbformat": 4,
 "nbformat_minor": 4
}
