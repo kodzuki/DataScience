{
 "cells": [
  {
   "cell_type": "markdown",
   "metadata": {},
   "source": [
    "* El código del Ejercicio 5 estaba todo en un único fichero\n",
    "* Mover las funciones, variables, etc. que sean necesarias a un fichero llamado `lyrics.py`\n",
    "* Mover la definición de las canciones a `example_songs.py`\n",
    "* De forma que se pueda importar y ejecutar de la siguiente forma."
   ]
  },
  {
   "cell_type": "code",
   "execution_count": 1,
   "metadata": {},
   "outputs": [
    {
     "ename": "ModuleNotFoundError",
     "evalue": "No module named 'lyrics'",
     "output_type": "error",
     "traceback": [
      "\u001b[0;31m---------------------------------------------------------------------------\u001b[0m",
      "\u001b[0;31mModuleNotFoundError\u001b[0m                       Traceback (most recent call last)",
      "Cell \u001b[0;32mIn [1], line 1\u001b[0m\n\u001b[0;32m----> 1\u001b[0m \u001b[38;5;28;01mimport\u001b[39;00m \u001b[38;5;21;01mlyrics\u001b[39;00m\n\u001b[1;32m      2\u001b[0m \u001b[38;5;28;01mimport\u001b[39;00m \u001b[38;5;21;01msongs\u001b[39;00m\n\u001b[1;32m      4\u001b[0m words_clean \u001b[38;5;241m=\u001b[39m split_into_words(songs\u001b[38;5;241m.\u001b[39mdespacito)\n",
      "\u001b[0;31mModuleNotFoundError\u001b[0m: No module named 'lyrics'"
     ]
    }
   ],
   "source": [
    "import lyrics\n",
    "import songs\n",
    "\n",
    "words_clean = split_into_words(songs.despacito)\n",
    "\n",
    "freqs = words_to_frequencies(words_clean)\n",
    "\n",
    "print(\"Palabras más frecuentes con más de 10 apariciones.\")\n",
    "print(lyrics.get_more_often_user_words(freqs))\n",
    "print(\"\\n\")\n",
    "print(\"Palabras más frecuentes con más de 10 apariciones.\")\n",
    "print(lyrics.get_more_often_user_words(freqs, threshold=5))"
   ]
  },
  {
   "cell_type": "code",
   "execution_count": 2,
   "metadata": {},
   "outputs": [
    {
     "name": "stdout",
     "output_type": "stream",
     "text": [
      "['/home/jovyan/Data Science/Introducción a Python', '/opt/conda/lib/python310.zip', '/opt/conda/lib/python3.10', '/opt/conda/lib/python3.10/lib-dynload', '', '/opt/conda/lib/python3.10/site-packages']\n"
     ]
    }
   ],
   "source": []
  }
 ],
 "metadata": {
  "kernelspec": {
   "display_name": "Python 3 (ipykernel)",
   "language": "python",
   "name": "python3"
  },
  "language_info": {
   "codemirror_mode": {
    "name": "ipython",
    "version": 3
   },
   "file_extension": ".py",
   "mimetype": "text/x-python",
   "name": "python",
   "nbconvert_exporter": "python",
   "pygments_lexer": "ipython3",
   "version": "3.10.6"
  }
 },
 "nbformat": 4,
 "nbformat_minor": 4
}
