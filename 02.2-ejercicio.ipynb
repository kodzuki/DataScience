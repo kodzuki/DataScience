{
 "cells": [
  {
   "cell_type": "code",
   "execution_count": 1,
   "metadata": {},
   "outputs": [
    {
     "name": "stdout",
     "output_type": "stream",
     "text": [
      "l: [16, 53, 71, 75, 30, 60, 83, 33, 23, 80, 31, 28, 38, 22, 3, 32, 76, 95, 22, 93, 40, 61, 54, 38, 9, 38, 36, 47, 31, 81, 69, 68, 83, 48, 35, 67, 68, 88, 48, 15, 93, 78, 63, 33, 37, 75, 62, 39, 69, 91, 6, 73, 44, 14, 16, 20, 34, 19, 68, 83, 44, 5, 77, 51, 79, 40, 16, 4, 34, 73, 39, 92, 54, 71, 33, 78, 6, 15, 57, 68, 53, 9, 89, 72, 69, 21, 43, 73, 14, 26, 92, 61, 41, 21, 52, 48, 17, 12, 57, 98]\n",
      "\n",
      "m: [3, 85, 54, 11, 70, 92, 8, 10, 70, 63, 81, 74, 94, 82, 48, 37, 23, 16, 18, 73, 52, 64, 36, 73, 77, 6, 30, 12, 26, 55, 3, 19, 90, 2, 78, 64, 99, 22, 64, 31, 97, 43, 99, 90, 55, 36, 82, 30, 30, 65, 97, 48, 42, 49, 55, 11, 82, 23, 12, 93, 43, 5, 83, 94, 62, 8, 33, 73, 21, 81, 88, 48, 93, 83, 93, 72, 50, 26, 6, 58, 48, 30, 43, 21, 18, 87, 16, 41, 78, 86, 51, 41, 79, 50, 90, 17, 57, 39, 45, 68]\n",
      "h: [53, 71, 75, 60, 80, 28, 38, 32, 76, 95, 40, 61, 38, 9, 38, 47, 69, 35, 67, 15, 75, 69, 91, 44, 14, 20, 34, 44, 40, 4, 34, 71, 15, 53, 9, 89, 69, 14, 61, 98]\n"
     ]
    }
   ],
   "source": [
    "# Escribir el codigo necesario para generar una lista que contenga\n",
    "# los elementos de l que no están en m\n",
    "\n",
    "import random\n",
    "\n",
    "l = [int(100*random.random()) for i in range(100)]\n",
    "m = [int(100*random.random()) for i in range(100)]\n",
    "\n",
    "print(\"l:\", l)\n",
    "print()\n",
    "print(\"m:\", m)\n",
    "\n",
    "# Escribe aquí el código\n",
    "\n",
    "N = len(l)\n",
    "h = []\n",
    "\n",
    "for i in range(N):\n",
    "    Variable = False\n",
    "    for j in range(N):\n",
    "        if(l[i] == m[j]): Variable = True\n",
    "            \n",
    "    if (Variable == False): h.append(l[i])\n",
    "        \n",
    "print(\"h:\", h)\n",
    "    "
   ]
  },
  {
   "cell_type": "code",
   "execution_count": 2,
   "metadata": {},
   "outputs": [
    {
     "name": "stdout",
     "output_type": "stream",
     "text": [
      "[0, 1, 1, 2, 3, 5, 8, 13, 21, 34, 55, 89, 144, 233, 377, 610, 987, 1597, 2584, 4181, 6765, 10946]\n"
     ]
    }
   ],
   "source": [
    "# Escribir el código necesario para calcular la sucesión de Fibonacci\n",
    "# para los \"n\" primeros términos, utilizando el esqueleto siguiente\n",
    "\n",
    "n = 20\n",
    "\n",
    "fib = [0, 1]  # Los dos primeros valores de la sucesión.\n",
    "\n",
    "# Escribe aquí el código\n",
    "\n",
    "for i in range(n):\n",
    "    \n",
    "    fib.append(fib[len(fib)-1] + fib[len(fib)-2])\n",
    "\n",
    "print(fib)\n",
    "\n"
   ]
  },
  {
   "cell_type": "code",
   "execution_count": 8,
   "metadata": {},
   "outputs": [
    {
     "name": "stdin",
     "output_type": "stream",
     "text": [
      "I will cheer for you! Enter a word:  to\n",
      "Enthusiasm level (1-10):  4\n"
     ]
    },
    {
     "name": "stdout",
     "output_type": "stream",
     "text": [
      "Give me a  t! t\n",
      "Give me an o! o\n",
      "What does that spell?\n",
      "to !!!\n",
      "to !!!\n",
      "to !!!\n",
      "to !!!\n"
     ]
    }
   ],
   "source": [
    "# El siguiente código hace uso de un bucle while, cuando\n",
    "# no es necesario. Escribir el código utilizando un bucle for\n",
    "\n",
    "an_letters = \"aefhilmnorsxAEFHILMNORSX\"\n",
    "word = input(\"I will cheer for you! Enter a word: \")  # Input nos pide que introduzcamos un valor por consola\n",
    "times = int(input(\"Enthusiasm level (1-10): \"))  # El valor es siempre un string, pero necesitamos un entero,\n",
    "                                                 # \"int()\" lo convierte a entero\n",
    "\n",
    "for i in range(len(word)):\n",
    "    char = word[i]\n",
    "    if char in an_letters:\n",
    "        print(\"Give me an \" + char + \"! \" + char)\n",
    "    else:\n",
    "        print(\"Give me a  \" + char + \"! \" + char)\n",
    "    \n",
    "print(\"What does that spell?\")\n",
    "for i in range(times):\n",
    "    print(word, \"!!!\")"
   ]
  },
  {
   "cell_type": "code",
   "execution_count": 9,
   "metadata": {},
   "outputs": [
    {
     "name": "stdout",
     "output_type": "stream",
     "text": [
      "l: [1, 2, 3, 4, 5]\n",
      "m: [5, 4, 3, 2, 1]\n"
     ]
    }
   ],
   "source": [
    "# El siguiente código debería crear una lista \"m\"\n",
    "# que contiene los elemenos de \"l\" en orden inverso,\n",
    "# pero contiene errores.\n",
    "\n",
    "l = [1, 2, 3, 4, 5]\n",
    "\n",
    "m = []\n",
    "n = len(l)\n",
    "\n",
    "for i in range(n):\n",
    "    m.append(l[n - i -1])\n",
    "   \n",
    "print(\"l:\", l)\n",
    "print(\"m:\", m)"
   ]
  },
  {
   "cell_type": "code",
   "execution_count": 11,
   "metadata": {},
   "outputs": [
    {
     "name": "stdout",
     "output_type": "stream",
     "text": [
      "[2, 3, 4, 5, 6, 7, 8, 9, 10, 11, 12, 13, 14, 15, 16, 17, 18, 19, 20, 21, 22, 23, 24, 25, 26, 27, 28, 29]\n"
     ]
    }
   ],
   "source": [
    "# El siguiente código debería obtener los números primos que\n",
    "# existan hasta \"n\", incluyendo \"n\", pero contiene errores.\n",
    "\n",
    "n = 30\n",
    "\n",
    "# Inicializo la lista de numeros primos\n",
    "primos = []\n",
    "primos.append(2)\n",
    "\n",
    "# Itero sobre los numeros\n",
    "for i in range(3,n+1):\n",
    "    prim = True\n",
    "    # go through each of 2...n\n",
    "    for j in primos:\n",
    "        # check if not divisible by elem of list\n",
    "        if (i % j == 0) = False \n",
    "        (j == primos[-1]): primos.append(i)\n",
    "      \n",
    "            \n",
    "print(primos)"
   ]
  },
  {
   "cell_type": "code",
   "execution_count": null,
   "metadata": {},
   "outputs": [],
   "source": []
  }
 ],
 "metadata": {
  "kernelspec": {
   "display_name": "Python 3 (ipykernel)",
   "language": "python",
   "name": "python3"
  },
  "language_info": {
   "codemirror_mode": {
    "name": "ipython",
    "version": 3
   },
   "file_extension": ".py",
   "mimetype": "text/x-python",
   "name": "python",
   "nbconvert_exporter": "python",
   "pygments_lexer": "ipython3",
   "version": "3.10.6"
  },
  "toc-showmarkdowntxt": true
 },
 "nbformat": 4,
 "nbformat_minor": 4
}
