{
 "cells": [
  {
   "cell_type": "markdown",
   "metadata": {},
   "source": [
    "A partir del código siguiente se pide"
   ]
  },
  {
   "cell_type": "code",
   "execution_count": 4,
   "metadata": {},
   "outputs": [],
   "source": [
    "import math\n",
    "\n",
    "class Shape(object):\n",
    "    \"\"\"A generic shape object.\"\"\"\n",
    "    \n",
    "    def area(self):\n",
    "        \"\"\"Return area of the shape.\"\"\"\n",
    "        pass\n",
    "    \n",
    "    def perimeter(self):\n",
    "        \"\"\"Return perimeter of the shape.\"\"\"\n",
    "        pass"
   ]
  },
  {
   "cell_type": "markdown",
   "metadata": {},
   "source": [
    "Implementar las clases `Square`, `Rectangle` y  `Circle`, sobreescribiendo los métodos `area` y `perimeter` para que muestren los resultados correctos"
   ]
  },
  {
   "cell_type": "code",
   "execution_count": 23,
   "metadata": {},
   "outputs": [
    {
     "name": "stdout",
     "output_type": "stream",
     "text": [
      "6\n",
      "10\n",
      "9\n",
      "12\n"
     ]
    }
   ],
   "source": [
    "class Rectangle(Shape):\n",
    "    \n",
    "    def __init__(self,a,b):\n",
    "        self.b = b\n",
    "        self.a = a\n",
    "    \n",
    "    def area(self):\n",
    "        return(self.a*self.b)\n",
    "    \n",
    "    def perimeter(self):\n",
    "        return(2*self.a+2*self.b)\n",
    "\n",
    "class Square(Rectangle):\n",
    "    \n",
    "    def __init__(self,c):\n",
    "        super().__init__(c,c)\n",
    "\n",
    "class Circle(Shape):\n",
    "    \n",
    "    def __init__(self,r):\n",
    "        self.r = r\n",
    "        import math\n",
    "        pi = math.pi\n",
    "    \n",
    "    def area(self):\n",
    "        return(pi*self.r**2)\n",
    "    def perimeter(self):\n",
    "        return(2*pi*self.r)\n",
    "        \n",
    "        \n",
    "rect = Rectangle(2,3)\n",
    "\n",
    "print(rect.area())\n",
    "print(rect.perimeter())\n",
    "\n",
    "cuad = Square(3)\n",
    "\n",
    "print(cuad.area())\n",
    "print(cuad.perimeter())"
   ]
  },
  {
   "cell_type": "markdown",
   "metadata": {},
   "source": [
    "Implementar las operaciones de suma, resta, y multiplicación, suponiendo que la suma, resta y multiplicación solo se puede realizar entre objetos del mismo tipo, y que la operación se realiza sobre sus dimensiones (es decir, la suma de dos círculos se realiza sumando sus radios de su circunferencia."
   ]
  },
  {
   "cell_type": "code",
   "execution_count": 21,
   "metadata": {},
   "outputs": [
    {
     "name": "stdout",
     "output_type": "stream",
     "text": [
      "28.274333882308138\n"
     ]
    }
   ],
   "source": [
    "class Circle(Shape):\n",
    "    \n",
    "    def __init__(self,r):\n",
    "        self.r = r\n",
    "        import math\n",
    "        self.pi = math.pi\n",
    "    \n",
    "    def area(self):\n",
    "        return(self.pi*self.r**2)\n",
    "    \n",
    "    def perimeter(self):\n",
    "        return(2*self.pi*self.r)\n",
    "    \n",
    "    def __add__(self,other):\n",
    "        return(Circle(self.r+other.r))\n",
    "    \n",
    "cir1 = Circle(1)\n",
    "cir2 = Circle(2)\n",
    "\n",
    "print((cir1+cir2).area())"
   ]
  }
 ],
 "metadata": {
  "kernelspec": {
   "display_name": "Python 3 (ipykernel)",
   "language": "python",
   "name": "python3"
  },
  "language_info": {
   "codemirror_mode": {
    "name": "ipython",
    "version": 3
   },
   "file_extension": ".py",
   "mimetype": "text/x-python",
   "name": "python",
   "nbconvert_exporter": "python",
   "pygments_lexer": "ipython3",
   "version": "3.10.6"
  }
 },
 "nbformat": 4,
 "nbformat_minor": 4
}
